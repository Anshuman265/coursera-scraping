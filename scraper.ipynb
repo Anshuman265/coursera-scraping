{
 "cells": [
  {
   "cell_type": "markdown",
   "metadata": {},
   "source": [
    "<h1 align=\"center\"> Coursera Job Scraper </h1>"
   ]
  },
  {
   "cell_type": "markdown",
   "metadata": {},
   "source": [
    "<h3> Dependencies </h3>"
   ]
  },
  {
   "cell_type": "code",
   "execution_count": 148,
   "metadata": {},
   "outputs": [],
   "source": [
    "# Uncomment and run this cell to install the required slibraries\n",
    "# !pip install beautifulsoup4\n",
    "# !pip install beautifulsoup4\n",
    "# !pip install requests\n",
    "# !pip install regex\n",
    "# !pip install urlparse4\n",
    "# !pip install lxml"
   ]
  },
  {
   "cell_type": "markdown",
   "metadata": {},
   "source": [
    "<h3> Start </h3>\n",
    "For re-running the code, run from this cell"
   ]
  },
  {
   "cell_type": "code",
   "execution_count": 149,
   "metadata": {},
   "outputs": [],
   "source": [
    "%reset -f"
   ]
  },
  {
   "cell_type": "markdown",
   "metadata": {},
   "source": [
    "<h3> Importing the required libraries </h3>"
   ]
  },
  {
   "cell_type": "code",
   "execution_count": 150,
   "metadata": {},
   "outputs": [],
   "source": [
    "from bs4 import BeautifulSoup\n",
    "import pandas as pd\n",
    "import requests\n",
    "import re\n",
    "from lxml import etree\n",
    "from urllib import parse"
   ]
  },
  {
   "cell_type": "markdown",
   "metadata": {},
   "source": [
    "<h3> Sending a get request to get all the jobs </h3>"
   ]
  },
  {
   "cell_type": "code",
   "execution_count": 151,
   "metadata": {},
   "outputs": [],
   "source": [
    "# url of the website\n",
    "url = \"https://boards.greenhouse.io/embed/job_board?for=coursera\"\n",
    "# Sending the get request to the website\n",
    "r = requests.get(url)"
   ]
  },
  {
   "cell_type": "markdown",
   "metadata": {},
   "source": [
    "<h3> Creating a BeautifulSoup Object </h3>\n",
    "<ul>\n",
    "<li> Using the beautifulSoup library to parse the html document </li>\n",
    "<li> Storing the beautifulSoup object in the soup variable for further use </li>\n",
    "</ul>"
   ]
  },
  {
   "cell_type": "code",
   "execution_count": 152,
   "metadata": {},
   "outputs": [],
   "source": [
    "soup = BeautifulSoup(r.text, 'html.parser')"
   ]
  },
  {
   "cell_type": "markdown",
   "metadata": {},
   "source": [
    "<h3> Extracting the url </h3>\n",
    "<ul>\n",
    "<li> Using the .find_all method to extract the url </li>\n",
    "<li> The url was stored as a value of the attribute \"href\" </li>\n",
    "</ul>"
   ]
  },
  {
   "cell_type": "code",
   "execution_count": 153,
   "metadata": {},
   "outputs": [],
   "source": [
    "all_urls = []\n",
    "for link in soup.find_all('a', \n",
    "                          attrs={'href': re.compile(\"^https://\")}):\n",
    "    # display the actual urls\n",
    "    all_urls.append(link.get('href'))"
   ]
  },
  {
   "cell_type": "markdown",
   "metadata": {},
   "source": [
    "<h3> Storing all the tokens in a list </h3>\n",
    "<ul>\n",
    "<li> Using the urlparse library,parsed all the urls to extract the job id </li>\n",
    "<li> Then this job id is passed as a token to get the html document using requests</li>\n",
    "</ul>"
   ]
  },
  {
   "cell_type": "code",
   "execution_count": 154,
   "metadata": {},
   "outputs": [],
   "source": [
    "# get all gh_jid values\n",
    "tokens = []\n",
    "for x in all_urls:\n",
    "    tokens.append(parse.parse_qs(parse.urlparse(x).query)['gh_jid'][0])"
   ]
  },
  {
   "cell_type": "code",
   "execution_count": 155,
   "metadata": {},
   "outputs": [],
   "source": [
    "def get_job_details(job_token):\n",
    "    r2 = requests.get(f'https://boards.greenhouse.io/embed/job_app?for=coursera&token={job_token}')\n",
    "    soup2 = BeautifulSoup(r2.text, 'html.parser')\n",
    "    # Using xpath to extract the required information\n",
    "    dom = etree.HTML(str(soup2))\n",
    "    designation = dom.xpath('//h1[@class=\"app-title\"]')[0].text\n",
    "    company_name = re.sub(r'\\s', '',dom.xpath('//span[@class=\"company-name\"]')[0].text)[2:]\n",
    "    location = re.sub(r'\\s', '',dom.xpath('//div[@class=\"location\"]')[0].text).strip()\n",
    "    job_overview = dom.xpath('//*[@id=\"content\"]/p[2]/span')[0].text.replace('\\xa0', '')\n",
    "    responsibilities = []\n",
    "    basic_qualifications = []\n",
    "    preferred_qualifications = []\n",
    "    list_items = soup2.find_all('ul')\n",
    "    for li in list_items[0].find_all(\"li\"):\n",
    "        responsibilities.append(li.text)\n",
    "    for li in list_items[1].find_all(\"li\"):\n",
    "        basic_qualifications.append(li.text)\n",
    "    for li in list_items[2].find_all(\"li\"):\n",
    "        preferred_qualifications.append(li.text)\n",
    "    detail_dict = {\n",
    "        \"designation\":designation,\n",
    "        \"company_name\":company_name,\n",
    "        \"location\":location,\n",
    "        \"job_overview\":job_overview,\n",
    "        \"responsibilities\":responsibilities,\n",
    "        \"basic_qualifications\":basic_qualifications,\n",
    "        \"preferred_qualifications\":preferred_qualifications,\n",
    "    }\n",
    "    return detail_dict"
   ]
  },
  {
   "cell_type": "markdown",
   "metadata": {},
   "source": [
    "<h3> Creating a dataframe to store all the job details </h3>"
   ]
  },
  {
   "cell_type": "code",
   "execution_count": 156,
   "metadata": {},
   "outputs": [],
   "source": [
    "column_names = ['designation','company_name','location','job_overview','responsibilities','basic_qualifications','preferred_qualifications']\n",
    "df = pd.DataFrame(columns=column_names)"
   ]
  },
  {
   "cell_type": "markdown",
   "metadata": {},
   "source": [
    "<h3> Running a for loop </h3>\n",
    "<ul>\n",
    "<li> The loop iterates through all the tokens </li>\n",
    "<li> It extracts all the details of the job and prints a completed statement </li>\n",
    "<li> It prints a *not processed* statement if it fails to extract   </li>\n",
    "</ul>"
   ]
  },
  {
   "cell_type": "code",
   "execution_count": 157,
   "metadata": {},
   "outputs": [
    {
     "name": "stdout",
     "output_type": "stream",
     "text": [
      "Completed for token = 4645401004\n",
      "Completed for token = 4614435004\n",
      "Completed for token = 4710854004\n",
      "Completed for token = 4606915004\n",
      "Completed for token = 4703409004\n",
      "Completed for token = 4660113004\n",
      "Completed for token = 4659828004\n",
      "Completed for token = 4674413004\n",
      "Completed for token = 4668328004\n",
      "Completed for token = 4612922004\n",
      "The job for token = 4687783004 could not be processed\n"
     ]
    }
   ],
   "source": [
    "for token in tokens:\n",
    "    try:\n",
    "        df = df.append(get_job_details(token),ignore_index=True)\n",
    "        print(f'Completed for token = {token}')\n",
    "    except:\n",
    "        print(f'The job for token = {token} could not be processed')"
   ]
  },
  {
   "cell_type": "markdown",
   "metadata": {},
   "source": [
    "<h3> Saving the dataframe as a CSV  file</h3>\n",
    "<h4> Advantages of using CSV files </h4>\n",
    "<ul> \n",
    "<li> CSV files are plain-text files, making them easier for the website developer to create</li>\n",
    "<li> They're easier to import into a spreadsheet or another storage database, regardless of the specific software you're using </li>\n",
    "<li> To better organize large amounts of data </li>\n",
    "</ul>"
   ]
  },
  {
   "cell_type": "code",
   "execution_count": 158,
   "metadata": {},
   "outputs": [],
   "source": [
    "df.to_csv('job_details.csv')"
   ]
  }
 ],
 "metadata": {
  "kernelspec": {
   "display_name": "Python 3.9.6 64-bit",
   "language": "python",
   "name": "python3"
  },
  "language_info": {
   "codemirror_mode": {
    "name": "ipython",
    "version": 3
   },
   "file_extension": ".py",
   "mimetype": "text/x-python",
   "name": "python",
   "nbconvert_exporter": "python",
   "pygments_lexer": "ipython3",
   "version": "3.9.6"
  },
  "orig_nbformat": 4,
  "vscode": {
   "interpreter": {
    "hash": "b9a5d2c943d6e84fb8b832a9e4e86e6ff5301b600f5b761b4724c3966af3f906"
   }
  }
 },
 "nbformat": 4,
 "nbformat_minor": 2
}
